{
 "cells": [
  {
   "cell_type": "markdown",
   "metadata": {},
   "source": [
    "### Introduction"
   ]
  },
  {
   "cell_type": "markdown",
   "metadata": {},
   "source": [
    "This project will investigate the relationship between severe weather events and retail alcohol sales in Iowa using recordings of severe weather events in the United States (dataset provided by the National Weather Service) and recordings of all liquor sales in Iowa (dataset provided by the state of Iowa). These datasets are both publicly available on BigQuery and are current as of 08/01/21.\n",
    "\n",
    "The project will follow this rough order:\n",
    "\n",
    "* Import the datasets\n",
    "* Prepare datasets for merging - preliminary exploration\n",
    "* Merge the datasets\n",
    "* Prepare to model - deeper exploration\n",
    "* Model\n",
    "* Conclusions\n",
    "\n",
    "Problem definition: If liquor sales in Iowa occur during severe weather, is it possible to predict sales based on the nature of that weather?\n",
    "\n",
    "\n",
    "Context: \n",
    "\n",
    "Climate: Iowa is a state in the Midwestern US. There are 99 continues in Iowa. Iowa has a humid continental climate with extremes of both heat and cold and averages around 50 days of thunderstorm activity per year. The lowest recorded temperature of -44 degrees centigrade and the highest recorded temperature of 48 degrees centigrade reflect the variation in climate. \n",
    "\n",
    "Liquor sales: Since the end of the prohibition era the Iowa state government, through the Iowa Alcoholic Beverages Division has regulated and monopolised the wholesale of liquor to retail stores in the state. It is through this system that near complete data on liquor sales is recorded and made available.\n",
    "\n",
    "TO DO: PUT IN SQL QUERIES\n",
    "SLICE DATA AND OPERATE ON THIS?\n",
    "WRITE CONCLUSIONs"
   ]
  },
  {
   "cell_type": "markdown",
   "metadata": {},
   "source": [
    "### Importing libraries"
   ]
  },
  {
   "cell_type": "code",
   "execution_count": 503,
   "metadata": {
    "_cell_guid": "b1076dfc-b9ad-4769-8c92-a6c4dae69d19",
    "_uuid": "8f2839f25d086af736a60e9eeb907d3b93b6e0e5"
   },
   "outputs": [
    {
     "ename": "ImportError",
     "evalue": "cannot import name 'bigquery_storage' from 'google.cloud' (unknown location)",
     "output_type": "error",
     "traceback": [
      "\u001b[0;31m---------------------------------------------------------------------------\u001b[0m",
      "\u001b[0;31mImportError\u001b[0m                               Traceback (most recent call last)",
      "\u001b[0;32m<ipython-input-503-65b22956762f>\u001b[0m in \u001b[0;36m<module>\u001b[0;34m\u001b[0m\n\u001b[1;32m      9\u001b[0m \u001b[0;32mimport\u001b[0m \u001b[0mseaborn\u001b[0m \u001b[0;32mas\u001b[0m \u001b[0msns\u001b[0m\u001b[0;34m\u001b[0m\u001b[0;34m\u001b[0m\u001b[0m\n\u001b[1;32m     10\u001b[0m \u001b[0;32mfrom\u001b[0m \u001b[0mgoogle\u001b[0m\u001b[0;34m.\u001b[0m\u001b[0mcloud\u001b[0m \u001b[0;32mimport\u001b[0m \u001b[0mbigquery\u001b[0m \u001b[0;32mas\u001b[0m \u001b[0mbigquery\u001b[0m\u001b[0;34m\u001b[0m\u001b[0;34m\u001b[0m\u001b[0m\n\u001b[0;32m---> 11\u001b[0;31m \u001b[0;32mfrom\u001b[0m \u001b[0mgoogle\u001b[0m\u001b[0;34m.\u001b[0m\u001b[0mcloud\u001b[0m \u001b[0;32mimport\u001b[0m \u001b[0mbigquery_storage\u001b[0m\u001b[0;34m\u001b[0m\u001b[0;34m\u001b[0m\u001b[0m\n\u001b[0m\u001b[1;32m     12\u001b[0m \u001b[0;32mimport\u001b[0m \u001b[0mgoogle\u001b[0m\u001b[0;34m.\u001b[0m\u001b[0mauth\u001b[0m\u001b[0;34m\u001b[0m\u001b[0;34m\u001b[0m\u001b[0m\n\u001b[1;32m     13\u001b[0m \u001b[0;34m\u001b[0m\u001b[0m\n",
      "\u001b[0;31mImportError\u001b[0m: cannot import name 'bigquery_storage' from 'google.cloud' (unknown location)"
     ]
    }
   ],
   "source": [
    "import numpy as np \n",
    "import pandas as pd \n",
    "pd.options.mode.chained_assignment = None  # default='warn'\n",
    "import string\n",
    "from datetime import timedelta\n",
    "import math\n",
    "\n",
    "import matplotlib.pyplot as plt\n",
    "import seaborn as sns\n",
    "\n",
    "from sklearn.ensemble import RandomForestRegressor\n",
    "from sklearn.model_selection import train_test_split\n",
    "from sklearn.preprocessing import StandardScaler\n",
    "\n",
    "from sklearn import metrics\n",
    "\n",
    "# from scipy.stats import norm\n",
    "# from sklearn.preprocessing import StandardScaler\n",
    "# from scipy import stats\n",
    "# import warnings\n",
    "# warnings.filterwarnings('ignore')\n",
    "%matplotlib inline\n",
    "\n",
    "\n",
    "# import os\n",
    "# for dirname, _, filenames in os.walk('/kaggle/input'):\n",
    "#     for filename in filenames:\n",
    "#         print(os.path.join(dirname, filename))\n",
    "\n"
   ]
  },
  {
   "cell_type": "markdown",
   "metadata": {},
   "source": [
    "# Importing, understanding and cleaning the datasets"
   ]
  },
  {
   "cell_type": "markdown",
   "metadata": {},
   "source": [
    "About the datasets:"
   ]
  },
  {
   "cell_type": "markdown",
   "metadata": {},
   "source": [
    "Observations: From the BigQuery console preview, we can see that the time range of the liquor sales dataset is comprised of a single table with time range covered not specified. It is also clear that this dataset contains many redundant columns (e.g. volume sold in litres as well as gallons). In contrast, the severe weather events dataset is comprised of seperate tables for every year since 1950. Column names in this dataset are also somewhat vague and schema detail is of varied help. Although the dataset concerns a variety of severe weather events it is named \"noaa_severe_storms\" so we will refer to it as storm data. \n",
    "\n",
    "Decisions: We will need to download the liquor sales dataset first, find out the time range to know which of the storm data tables to download.\n",
    "\n",
    "Note: in preparation to upload the dataset to a Kaggle notebook the liquor sales dataset, being some ~4GB in size was downloaded in pieces from BigQuery and concatenated using cat for the purposes of being zipped for fast upload. As such there are duplicate headers present dataset will need to be read with string formatting which will be faster than specifying datatyes for each column as most will likely be removed anyway."
   ]
  },
  {
   "cell_type": "code",
   "execution_count": 423,
   "metadata": {},
   "outputs": [],
   "source": [
    "liquor_file_path =  r\"/Users/stu/Desktop/iowa_weather_sales/iowaliquor_data/merged_liquor.csv\"\n",
    "\n",
    "liquor_data = pd.read_csv(liquor_file_path, index_col=False, encoding='iso-8859-1',\n",
    "                        dtype=str)"
   ]
  },
  {
   "cell_type": "code",
   "execution_count": 424,
   "metadata": {},
   "outputs": [
    {
     "data": {
      "text/plain": [
       "(20349538, 24)"
      ]
     },
     "execution_count": 424,
     "metadata": {},
     "output_type": "execute_result"
    }
   ],
   "source": [
    "liquor_sales =  liquor_data.copy(deep=True)\n",
    "# In case we need to re-initialise the dataset from scratch \n",
    "\n",
    "liquor_sales.drop(liquor_sales[liquor_sales['date'] == 'date'].index, inplace=True)\n",
    "# deleting duplicate headers\n",
    "\n",
    "liquor_sales.shape"
   ]
  },
  {
   "cell_type": "markdown",
   "metadata": {},
   "source": [
    "We will first convert the date column to datetime to find time range. "
   ]
  },
  {
   "cell_type": "code",
   "execution_count": 425,
   "metadata": {},
   "outputs": [
    {
     "data": {
      "text/plain": [
       "datetime64[ns, UTC]"
      ]
     },
     "execution_count": 425,
     "metadata": {},
     "output_type": "execute_result"
    }
   ],
   "source": [
    "liquor_sales['date'] = pd.to_datetime(liquor_sales['date'], utc = True, errors = 'coerce', format = '%Y-%m-%d')\n",
    "liquor_sales['date'].dtype"
   ]
  },
  {
   "cell_type": "markdown",
   "metadata": {},
   "source": [
    "Next, we will find the date range of the dataset."
   ]
  },
  {
   "cell_type": "code",
   "execution_count": 426,
   "metadata": {},
   "outputs": [
    {
     "name": "stdout",
     "output_type": "stream",
     "text": [
      "2012-01-03 00:00:00+00:00 2020-12-31 00:00:00+00:00\n"
     ]
    }
   ],
   "source": [
    "print( liquor_sales['date'].min(), liquor_sales['date'].max())"
   ]
  },
  {
   "cell_type": "markdown",
   "metadata": {},
   "source": [
    "Now we know to download storm data for 2012 - 2020."
   ]
  },
  {
   "cell_type": "code",
   "execution_count": 427,
   "metadata": {},
   "outputs": [],
   "source": [
    "storm_data = pd.read_csv(r\"/Users/stu/Desktop/iowa_weather_sales/storms/storms_2012\",  index_col=False, encoding='iso-8859-1', dtype=str)\n",
    "\n",
    "storm_path =  r\"/Users/stu/Desktop/iowa_weather_sales/storms/storms_20\"\n",
    "\n",
    "storm_list = []\n",
    "for i in range(12,21): #looping through path names for succintness\n",
    "    path = storm_path + str(i)\n",
    "    data = pd.read_csv(path, index_col=False, encoding='iso-8859-1', dtype=str)\n",
    "    storm_list.append(data)\n",
    "    \n",
    "storm_data = pd.concat(storm_list, axis=0)"
   ]
  },
  {
   "cell_type": "code",
   "execution_count": 428,
   "metadata": {},
   "outputs": [
    {
     "data": {
      "text/plain": [
       "(535342, 33)"
      ]
     },
     "execution_count": 428,
     "metadata": {},
     "output_type": "execute_result"
    }
   ],
   "source": [
    "storm_copy =  storm_data.copy(deep=True)\n",
    "#again, in case we need to re-initialise this dataset.\n",
    "\n",
    "storm_copy.shape"
   ]
  },
  {
   "cell_type": "markdown",
   "metadata": {},
   "source": [
    "Before filtering the dataset for only records for the state of Iowa, we should check for mislabelled states"
   ]
  },
  {
   "cell_type": "code",
   "execution_count": 429,
   "metadata": {},
   "outputs": [
    {
     "name": "stdout",
     "output_type": "stream",
     "text": [
      "['Texas' 'Arkansas' 'Missouri' 'Louisiana' 'Georgia' 'Alabama' 'Tennessee'\n",
      " 'Nevada' 'Oklahoma' 'Illinois' 'Kansas' 'Kentucky' 'Mississippi'\n",
      " 'Delaware' 'South carolina' 'Indiana' 'Virginia' 'Nebraska' 'Michigan'\n",
      " 'Florida' 'Pennsylvania' 'South dakota' 'Iowa' 'Hawaii' 'North carolina'\n",
      " 'North dakota' 'Minnesota' 'Wisconsin' 'New mexico' 'West virginia'\n",
      " 'Wyoming' 'Maryland' 'Ohio' 'New jersey' 'Colorado' 'Washington' 'Oregon'\n",
      " 'Massachusetts' 'Idaho' 'New york' 'Montana' 'Arizona' 'Vermont'\n",
      " 'California' 'Connecticut' 'Maine' 'Puerto rico' 'Utah' 'New hampshire'\n",
      " 'Rhode island' 'District of columbia' 'Alaska' 'Guam' 'Gulf of mexico'\n",
      " 'E pacific' 'Hawaii waters' 'Atlantic south' 'Atlantic north'\n",
      " 'Lake michigan' 'Lake superior' 'Lake erie' 'Lake st clair'\n",
      " 'Lake ontario' 'Lake huron' 'American samoa' 'Virgin islands'\n",
      " 'Gulf of alaska' 'St lawrence r']\n"
     ]
    }
   ],
   "source": [
    "unique_states = storm_copy['state'].unique()\n",
    "print(unique_states)"
   ]
  },
  {
   "cell_type": "markdown",
   "metadata": {},
   "source": [
    "As there is only one entry for Iowa we can safely select is as follows:"
   ]
  },
  {
   "cell_type": "code",
   "execution_count": 430,
   "metadata": {},
   "outputs": [],
   "source": [
    "iowa_storms = storm_copy[storm_copy['state'] == 'Iowa']"
   ]
  },
  {
   "cell_type": "code",
   "execution_count": 431,
   "metadata": {},
   "outputs": [
    {
     "data": {
      "text/plain": [
       "(19019, 33)"
      ]
     },
     "execution_count": 431,
     "metadata": {},
     "output_type": "execute_result"
    }
   ],
   "source": [
    "iowa_storms.shape"
   ]
  },
  {
   "cell_type": "markdown",
   "metadata": {},
   "source": [
    "We can see already that there are far less entries for storms than for liquor sales (20m vs 19k)"
   ]
  },
  {
   "cell_type": "markdown",
   "metadata": {},
   "source": [
    "### Understanding the datasets"
   ]
  },
  {
   "cell_type": "code",
   "execution_count": 432,
   "metadata": {},
   "outputs": [
    {
     "name": "stdout",
     "output_type": "stream",
     "text": [
      "<class 'pandas.core.frame.DataFrame'>\n",
      "Int64Index: 19019 entries, 854 to 47677\n",
      "Data columns (total 33 columns):\n",
      " #   Column              Non-Null Count  Dtype \n",
      "---  ------              --------------  ----- \n",
      " 0   episode_id          19019 non-null  object\n",
      " 1   event_id            19019 non-null  object\n",
      " 2   state               19019 non-null  object\n",
      " 3   state_fips_code     19019 non-null  object\n",
      " 4   event_type          19019 non-null  object\n",
      " 5   cz_type             19019 non-null  object\n",
      " 6   cz_fips_code        19019 non-null  object\n",
      " 7   cz_name             19019 non-null  object\n",
      " 8   wfo                 19019 non-null  object\n",
      " 9   event_begin_time    19019 non-null  object\n",
      " 10  event_timezone      19019 non-null  object\n",
      " 11  event_end_time      19019 non-null  object\n",
      " 12  injuries_direct     19019 non-null  object\n",
      " 13  injuries_indirect   19019 non-null  object\n",
      " 14  deaths_direct       19019 non-null  object\n",
      " 15  deaths_indirect     19019 non-null  object\n",
      " 16  damage_property     18296 non-null  object\n",
      " 17  damage_crops        18246 non-null  object\n",
      " 18  source              19019 non-null  object\n",
      " 19  magnitude           8109 non-null   object\n",
      " 20  magnitude_type      4573 non-null   object\n",
      " 21  flood_cause         2336 non-null   object\n",
      " 22  tor_f_scale         516 non-null    object\n",
      " 23  tor_length          516 non-null    object\n",
      " 24  tor_width           4063 non-null   object\n",
      " 25  tor_other_wfo       69 non-null     object\n",
      " 26  location_index      9436 non-null   object\n",
      " 27  event_range         9436 non-null   object\n",
      " 28  event_azimuth       9436 non-null   object\n",
      " 29  reference_location  9436 non-null   object\n",
      " 30  event_latitude      9436 non-null   object\n",
      " 31  event_longitude     9436 non-null   object\n",
      " 32  event_point         9436 non-null   object\n",
      "dtypes: object(33)\n",
      "memory usage: 4.9+ MB\n"
     ]
    }
   ],
   "source": [
    "iowa_storms.info()"
   ]
  },
  {
   "cell_type": "code",
   "execution_count": 433,
   "metadata": {
    "scrolled": true
   },
   "outputs": [
    {
     "data": {
      "text/html": [
       "<div>\n",
       "<style scoped>\n",
       "    .dataframe tbody tr th:only-of-type {\n",
       "        vertical-align: middle;\n",
       "    }\n",
       "\n",
       "    .dataframe tbody tr th {\n",
       "        vertical-align: top;\n",
       "    }\n",
       "\n",
       "    .dataframe thead th {\n",
       "        text-align: right;\n",
       "    }\n",
       "</style>\n",
       "<table border=\"1\" class=\"dataframe\">\n",
       "  <thead>\n",
       "    <tr style=\"text-align: right;\">\n",
       "      <th></th>\n",
       "      <th>episode_id</th>\n",
       "      <th>event_id</th>\n",
       "      <th>state</th>\n",
       "      <th>state_fips_code</th>\n",
       "      <th>event_type</th>\n",
       "      <th>cz_type</th>\n",
       "      <th>cz_fips_code</th>\n",
       "      <th>cz_name</th>\n",
       "      <th>wfo</th>\n",
       "      <th>event_begin_time</th>\n",
       "      <th>...</th>\n",
       "      <th>tor_length</th>\n",
       "      <th>tor_width</th>\n",
       "      <th>tor_other_wfo</th>\n",
       "      <th>location_index</th>\n",
       "      <th>event_range</th>\n",
       "      <th>event_azimuth</th>\n",
       "      <th>reference_location</th>\n",
       "      <th>event_latitude</th>\n",
       "      <th>event_longitude</th>\n",
       "      <th>event_point</th>\n",
       "    </tr>\n",
       "  </thead>\n",
       "  <tbody>\n",
       "    <tr>\n",
       "      <th>854</th>\n",
       "      <td>60799</td>\n",
       "      <td>363235</td>\n",
       "      <td>Iowa</td>\n",
       "      <td>19</td>\n",
       "      <td>hail</td>\n",
       "      <td>C</td>\n",
       "      <td>129</td>\n",
       "      <td>MILLS</td>\n",
       "      <td>OAX</td>\n",
       "      <td>2012-03-26 07:11:00</td>\n",
       "      <td>...</td>\n",
       "      <td>NaN</td>\n",
       "      <td>NaN</td>\n",
       "      <td>NaN</td>\n",
       "      <td>1</td>\n",
       "      <td>2.94</td>\n",
       "      <td>SW</td>\n",
       "      <td>PACIFIC CITY</td>\n",
       "      <td>41.02</td>\n",
       "      <td>-95.86</td>\n",
       "      <td>POINT(-95.86 41.02)</td>\n",
       "    </tr>\n",
       "    <tr>\n",
       "      <th>943</th>\n",
       "      <td>60812</td>\n",
       "      <td>363384</td>\n",
       "      <td>Iowa</td>\n",
       "      <td>19</td>\n",
       "      <td>hail</td>\n",
       "      <td>C</td>\n",
       "      <td>29</td>\n",
       "      <td>CASS</td>\n",
       "      <td>DMX</td>\n",
       "      <td>2012-03-29 18:54:00</td>\n",
       "      <td>...</td>\n",
       "      <td>NaN</td>\n",
       "      <td>NaN</td>\n",
       "      <td>NaN</td>\n",
       "      <td>1</td>\n",
       "      <td>2.14</td>\n",
       "      <td>SSE</td>\n",
       "      <td>LEWIS</td>\n",
       "      <td>41.27</td>\n",
       "      <td>-95.07</td>\n",
       "      <td>POINT(-95.07 41.27)</td>\n",
       "    </tr>\n",
       "    <tr>\n",
       "      <th>944</th>\n",
       "      <td>60812</td>\n",
       "      <td>363385</td>\n",
       "      <td>Iowa</td>\n",
       "      <td>19</td>\n",
       "      <td>hail</td>\n",
       "      <td>C</td>\n",
       "      <td>29</td>\n",
       "      <td>CASS</td>\n",
       "      <td>DMX</td>\n",
       "      <td>2012-03-29 19:10:00</td>\n",
       "      <td>...</td>\n",
       "      <td>NaN</td>\n",
       "      <td>NaN</td>\n",
       "      <td>NaN</td>\n",
       "      <td>1</td>\n",
       "      <td>2.81</td>\n",
       "      <td>S</td>\n",
       "      <td>GRISWOLD</td>\n",
       "      <td>41.19</td>\n",
       "      <td>-95.14</td>\n",
       "      <td>POINT(-95.14 41.19)</td>\n",
       "    </tr>\n",
       "    <tr>\n",
       "      <th>945</th>\n",
       "      <td>60812</td>\n",
       "      <td>363386</td>\n",
       "      <td>Iowa</td>\n",
       "      <td>19</td>\n",
       "      <td>hail</td>\n",
       "      <td>C</td>\n",
       "      <td>153</td>\n",
       "      <td>POLK</td>\n",
       "      <td>DMX</td>\n",
       "      <td>2012-03-29 20:53:00</td>\n",
       "      <td>...</td>\n",
       "      <td>NaN</td>\n",
       "      <td>NaN</td>\n",
       "      <td>NaN</td>\n",
       "      <td>1</td>\n",
       "      <td>0.52</td>\n",
       "      <td>W</td>\n",
       "      <td>ALTOONA</td>\n",
       "      <td>41.65</td>\n",
       "      <td>-93.48</td>\n",
       "      <td>POINT(-93.48 41.65)</td>\n",
       "    </tr>\n",
       "    <tr>\n",
       "      <th>950</th>\n",
       "      <td>60838</td>\n",
       "      <td>363537</td>\n",
       "      <td>Iowa</td>\n",
       "      <td>19</td>\n",
       "      <td>hail</td>\n",
       "      <td>C</td>\n",
       "      <td>133</td>\n",
       "      <td>MONONA</td>\n",
       "      <td>OAX</td>\n",
       "      <td>2012-03-30 16:50:00</td>\n",
       "      <td>...</td>\n",
       "      <td>NaN</td>\n",
       "      <td>NaN</td>\n",
       "      <td>NaN</td>\n",
       "      <td>1</td>\n",
       "      <td>1.47</td>\n",
       "      <td>NNE</td>\n",
       "      <td>MAPLETON MUNI ARPT</td>\n",
       "      <td>42.2</td>\n",
       "      <td>-95.79</td>\n",
       "      <td>POINT(-95.79 42.2)</td>\n",
       "    </tr>\n",
       "  </tbody>\n",
       "</table>\n",
       "<p>5 rows × 33 columns</p>\n",
       "</div>"
      ],
      "text/plain": [
       "    episode_id event_id state state_fips_code event_type cz_type cz_fips_code  \\\n",
       "854      60799   363235  Iowa              19       hail       C          129   \n",
       "943      60812   363384  Iowa              19       hail       C           29   \n",
       "944      60812   363385  Iowa              19       hail       C           29   \n",
       "945      60812   363386  Iowa              19       hail       C          153   \n",
       "950      60838   363537  Iowa              19       hail       C          133   \n",
       "\n",
       "    cz_name  wfo     event_begin_time  ... tor_length tor_width tor_other_wfo  \\\n",
       "854   MILLS  OAX  2012-03-26 07:11:00  ...        NaN       NaN           NaN   \n",
       "943    CASS  DMX  2012-03-29 18:54:00  ...        NaN       NaN           NaN   \n",
       "944    CASS  DMX  2012-03-29 19:10:00  ...        NaN       NaN           NaN   \n",
       "945    POLK  DMX  2012-03-29 20:53:00  ...        NaN       NaN           NaN   \n",
       "950  MONONA  OAX  2012-03-30 16:50:00  ...        NaN       NaN           NaN   \n",
       "\n",
       "    location_index event_range event_azimuth  reference_location  \\\n",
       "854              1        2.94            SW        PACIFIC CITY   \n",
       "943              1        2.14           SSE               LEWIS   \n",
       "944              1        2.81             S            GRISWOLD   \n",
       "945              1        0.52             W             ALTOONA   \n",
       "950              1        1.47           NNE  MAPLETON MUNI ARPT   \n",
       "\n",
       "    event_latitude event_longitude          event_point  \n",
       "854          41.02          -95.86  POINT(-95.86 41.02)  \n",
       "943          41.27          -95.07  POINT(-95.07 41.27)  \n",
       "944          41.19          -95.14  POINT(-95.14 41.19)  \n",
       "945          41.65          -93.48  POINT(-93.48 41.65)  \n",
       "950           42.2          -95.79   POINT(-95.79 42.2)  \n",
       "\n",
       "[5 rows x 33 columns]"
      ]
     },
     "execution_count": 433,
     "metadata": {},
     "output_type": "execute_result"
    }
   ],
   "source": [
    "iowa_storms.head()"
   ]
  },
  {
   "cell_type": "code",
   "execution_count": 434,
   "metadata": {},
   "outputs": [
    {
     "name": "stdout",
     "output_type": "stream",
     "text": [
      "<class 'pandas.core.frame.DataFrame'>\n",
      "Int64Index: 20349538 entries, 0 to 20349563\n",
      "Data columns (total 24 columns):\n",
      " #   Column                   Dtype              \n",
      "---  ------                   -----              \n",
      " 0   invoice_and_item_number  object             \n",
      " 1   date                     datetime64[ns, UTC]\n",
      " 2   store_number             object             \n",
      " 3   store_name               object             \n",
      " 4   address                  object             \n",
      " 5   city                     object             \n",
      " 6   zip_code                 object             \n",
      " 7   store_location           object             \n",
      " 8   county_number            object             \n",
      " 9   county                   object             \n",
      " 10  category                 object             \n",
      " 11  category_name            object             \n",
      " 12  vendor_number            object             \n",
      " 13  vendor_name              object             \n",
      " 14  item_number              object             \n",
      " 15  item_description         object             \n",
      " 16  pack                     object             \n",
      " 17  bottle_volume_ml         object             \n",
      " 18  state_bottle_cost        object             \n",
      " 19  state_bottle_retail      object             \n",
      " 20  bottles_sold             object             \n",
      " 21  sale_dollars             object             \n",
      " 22  volume_sold_liters       object             \n",
      " 23  volume_sold_gallons      object             \n",
      "dtypes: datetime64[ns, UTC](1), object(23)\n",
      "memory usage: 3.8+ GB\n"
     ]
    }
   ],
   "source": [
    "liquor_sales.info()"
   ]
  },
  {
   "cell_type": "code",
   "execution_count": 435,
   "metadata": {},
   "outputs": [
    {
     "data": {
      "text/html": [
       "<div>\n",
       "<style scoped>\n",
       "    .dataframe tbody tr th:only-of-type {\n",
       "        vertical-align: middle;\n",
       "    }\n",
       "\n",
       "    .dataframe tbody tr th {\n",
       "        vertical-align: top;\n",
       "    }\n",
       "\n",
       "    .dataframe thead th {\n",
       "        text-align: right;\n",
       "    }\n",
       "</style>\n",
       "<table border=\"1\" class=\"dataframe\">\n",
       "  <thead>\n",
       "    <tr style=\"text-align: right;\">\n",
       "      <th></th>\n",
       "      <th>invoice_and_item_number</th>\n",
       "      <th>date</th>\n",
       "      <th>store_number</th>\n",
       "      <th>store_name</th>\n",
       "      <th>address</th>\n",
       "      <th>city</th>\n",
       "      <th>zip_code</th>\n",
       "      <th>store_location</th>\n",
       "      <th>county_number</th>\n",
       "      <th>county</th>\n",
       "      <th>...</th>\n",
       "      <th>item_number</th>\n",
       "      <th>item_description</th>\n",
       "      <th>pack</th>\n",
       "      <th>bottle_volume_ml</th>\n",
       "      <th>state_bottle_cost</th>\n",
       "      <th>state_bottle_retail</th>\n",
       "      <th>bottles_sold</th>\n",
       "      <th>sale_dollars</th>\n",
       "      <th>volume_sold_liters</th>\n",
       "      <th>volume_sold_gallons</th>\n",
       "    </tr>\n",
       "  </thead>\n",
       "  <tbody>\n",
       "    <tr>\n",
       "      <th>0</th>\n",
       "      <td>S03389400032</td>\n",
       "      <td>2012-01-03 00:00:00+00:00</td>\n",
       "      <td>3521</td>\n",
       "      <td>Ameristar Casino / Council Bluffs</td>\n",
       "      <td>2200 RIVER ROAD</td>\n",
       "      <td>COUNCIL BLUFFS</td>\n",
       "      <td>51501</td>\n",
       "      <td>POINT (-95.909384 41.242291)</td>\n",
       "      <td>78</td>\n",
       "      <td>Pottawattamie</td>\n",
       "      <td>...</td>\n",
       "      <td>15626</td>\n",
       "      <td>Jameson</td>\n",
       "      <td>12</td>\n",
       "      <td>750</td>\n",
       "      <td>13.46</td>\n",
       "      <td>20.2</td>\n",
       "      <td>12</td>\n",
       "      <td>242.4</td>\n",
       "      <td>9</td>\n",
       "      <td>2.38</td>\n",
       "    </tr>\n",
       "    <tr>\n",
       "      <th>1</th>\n",
       "      <td>S03396400054</td>\n",
       "      <td>2012-01-03 00:00:00+00:00</td>\n",
       "      <td>4312</td>\n",
       "      <td>I-80 Liquor / Council Bluffs</td>\n",
       "      <td>2411 S 24TH ST #1</td>\n",
       "      <td>COUNCIL BLUFFS</td>\n",
       "      <td>51501</td>\n",
       "      <td>POINT (-95.8792 41.238092)</td>\n",
       "      <td>78</td>\n",
       "      <td>Pottawattamie</td>\n",
       "      <td>...</td>\n",
       "      <td>86190</td>\n",
       "      <td>Hiram Walker Triple Sec</td>\n",
       "      <td>12</td>\n",
       "      <td>1000</td>\n",
       "      <td>2.33</td>\n",
       "      <td>3.49</td>\n",
       "      <td>36</td>\n",
       "      <td>125.64</td>\n",
       "      <td>36</td>\n",
       "      <td>9.51</td>\n",
       "    </tr>\n",
       "    <tr>\n",
       "      <th>2</th>\n",
       "      <td>S03371500011</td>\n",
       "      <td>2012-01-03 00:00:00+00:00</td>\n",
       "      <td>4572</td>\n",
       "      <td>Grundy Center Family Foods</td>\n",
       "      <td>1400, G AVE</td>\n",
       "      <td>GRUNDY CENTER</td>\n",
       "      <td>50638</td>\n",
       "      <td>POINT (-92.782283 42.36157)</td>\n",
       "      <td>38</td>\n",
       "      <td>Grundy</td>\n",
       "      <td>...</td>\n",
       "      <td>89196</td>\n",
       "      <td>Jose Cuervo Especial Reposado Tequila</td>\n",
       "      <td>12</td>\n",
       "      <td>750</td>\n",
       "      <td>10.49</td>\n",
       "      <td>15.73</td>\n",
       "      <td>2</td>\n",
       "      <td>31.46</td>\n",
       "      <td>1.5</td>\n",
       "      <td>0.4</td>\n",
       "    </tr>\n",
       "    <tr>\n",
       "      <th>3</th>\n",
       "      <td>S03397100038</td>\n",
       "      <td>2012-01-03 00:00:00+00:00</td>\n",
       "      <td>4306</td>\n",
       "      <td>Northside One Stop / Hampton</td>\n",
       "      <td>1208  4TH ST NE</td>\n",
       "      <td>HAMPTON</td>\n",
       "      <td>50441</td>\n",
       "      <td>POINT (-93.202452 42.753045)</td>\n",
       "      <td>35</td>\n",
       "      <td>Franklin</td>\n",
       "      <td>...</td>\n",
       "      <td>82787</td>\n",
       "      <td>Dekuyper Buttershots</td>\n",
       "      <td>12</td>\n",
       "      <td>1000</td>\n",
       "      <td>7.35</td>\n",
       "      <td>11.02</td>\n",
       "      <td>3</td>\n",
       "      <td>33.06</td>\n",
       "      <td>3</td>\n",
       "      <td>0.79</td>\n",
       "    </tr>\n",
       "    <tr>\n",
       "      <th>4</th>\n",
       "      <td>S03385300045</td>\n",
       "      <td>2012-01-03 00:00:00+00:00</td>\n",
       "      <td>2506</td>\n",
       "      <td>Hy-Vee #1044 / Burlington</td>\n",
       "      <td>3140 AGENCY</td>\n",
       "      <td>BURLINGTON</td>\n",
       "      <td>52601</td>\n",
       "      <td>POINT (-91.136655 40.814666)</td>\n",
       "      <td>29</td>\n",
       "      <td>Des Moines</td>\n",
       "      <td>...</td>\n",
       "      <td>76487</td>\n",
       "      <td>Paramount Amaretto</td>\n",
       "      <td>12</td>\n",
       "      <td>1000</td>\n",
       "      <td>4.04</td>\n",
       "      <td>6.06</td>\n",
       "      <td>12</td>\n",
       "      <td>72.72</td>\n",
       "      <td>12</td>\n",
       "      <td>3.17</td>\n",
       "    </tr>\n",
       "  </tbody>\n",
       "</table>\n",
       "<p>5 rows × 24 columns</p>\n",
       "</div>"
      ],
      "text/plain": [
       "  invoice_and_item_number                      date store_number  \\\n",
       "0            S03389400032 2012-01-03 00:00:00+00:00         3521   \n",
       "1            S03396400054 2012-01-03 00:00:00+00:00         4312   \n",
       "2            S03371500011 2012-01-03 00:00:00+00:00         4572   \n",
       "3            S03397100038 2012-01-03 00:00:00+00:00         4306   \n",
       "4            S03385300045 2012-01-03 00:00:00+00:00         2506   \n",
       "\n",
       "                          store_name            address            city  \\\n",
       "0  Ameristar Casino / Council Bluffs    2200 RIVER ROAD  COUNCIL BLUFFS   \n",
       "1       I-80 Liquor / Council Bluffs  2411 S 24TH ST #1  COUNCIL BLUFFS   \n",
       "2         Grundy Center Family Foods        1400, G AVE   GRUNDY CENTER   \n",
       "3       Northside One Stop / Hampton    1208  4TH ST NE         HAMPTON   \n",
       "4          Hy-Vee #1044 / Burlington        3140 AGENCY      BURLINGTON   \n",
       "\n",
       "  zip_code                store_location county_number         county  ...  \\\n",
       "0    51501  POINT (-95.909384 41.242291)            78  Pottawattamie  ...   \n",
       "1    51501    POINT (-95.8792 41.238092)            78  Pottawattamie  ...   \n",
       "2    50638   POINT (-92.782283 42.36157)            38         Grundy  ...   \n",
       "3    50441  POINT (-93.202452 42.753045)            35       Franklin  ...   \n",
       "4    52601  POINT (-91.136655 40.814666)            29     Des Moines  ...   \n",
       "\n",
       "  item_number                       item_description pack bottle_volume_ml  \\\n",
       "0       15626                                Jameson   12              750   \n",
       "1       86190                Hiram Walker Triple Sec   12             1000   \n",
       "2       89196  Jose Cuervo Especial Reposado Tequila   12              750   \n",
       "3       82787                   Dekuyper Buttershots   12             1000   \n",
       "4       76487                     Paramount Amaretto   12             1000   \n",
       "\n",
       "  state_bottle_cost state_bottle_retail bottles_sold sale_dollars  \\\n",
       "0             13.46                20.2           12        242.4   \n",
       "1              2.33                3.49           36       125.64   \n",
       "2             10.49               15.73            2        31.46   \n",
       "3              7.35               11.02            3        33.06   \n",
       "4              4.04                6.06           12        72.72   \n",
       "\n",
       "  volume_sold_liters volume_sold_gallons  \n",
       "0                  9                2.38  \n",
       "1                 36                9.51  \n",
       "2                1.5                 0.4  \n",
       "3                  3                0.79  \n",
       "4                 12                3.17  \n",
       "\n",
       "[5 rows x 24 columns]"
      ]
     },
     "execution_count": 435,
     "metadata": {},
     "output_type": "execute_result"
    }
   ],
   "source": [
    "liquor_sales.head()"
   ]
  },
  {
   "cell_type": "code",
   "execution_count": 436,
   "metadata": {},
   "outputs": [
    {
     "data": {
      "text/html": [
       "<div>\n",
       "<style scoped>\n",
       "    .dataframe tbody tr th:only-of-type {\n",
       "        vertical-align: middle;\n",
       "    }\n",
       "\n",
       "    .dataframe tbody tr th {\n",
       "        vertical-align: top;\n",
       "    }\n",
       "\n",
       "    .dataframe thead th {\n",
       "        text-align: right;\n",
       "    }\n",
       "</style>\n",
       "<table border=\"1\" class=\"dataframe\">\n",
       "  <thead>\n",
       "    <tr style=\"text-align: right;\">\n",
       "      <th></th>\n",
       "      <th>episode_id</th>\n",
       "      <th>event_id</th>\n",
       "      <th>state</th>\n",
       "      <th>state_fips_code</th>\n",
       "      <th>event_type</th>\n",
       "      <th>cz_type</th>\n",
       "      <th>cz_fips_code</th>\n",
       "      <th>cz_name</th>\n",
       "      <th>wfo</th>\n",
       "      <th>event_begin_time</th>\n",
       "      <th>...</th>\n",
       "      <th>tor_length</th>\n",
       "      <th>tor_width</th>\n",
       "      <th>tor_other_wfo</th>\n",
       "      <th>location_index</th>\n",
       "      <th>event_range</th>\n",
       "      <th>event_azimuth</th>\n",
       "      <th>reference_location</th>\n",
       "      <th>event_latitude</th>\n",
       "      <th>event_longitude</th>\n",
       "      <th>event_point</th>\n",
       "    </tr>\n",
       "  </thead>\n",
       "  <tbody>\n",
       "    <tr>\n",
       "      <th>854</th>\n",
       "      <td>60799</td>\n",
       "      <td>363235</td>\n",
       "      <td>Iowa</td>\n",
       "      <td>19</td>\n",
       "      <td>hail</td>\n",
       "      <td>C</td>\n",
       "      <td>129</td>\n",
       "      <td>MILLS</td>\n",
       "      <td>OAX</td>\n",
       "      <td>2012-03-26 07:11:00</td>\n",
       "      <td>...</td>\n",
       "      <td>NaN</td>\n",
       "      <td>NaN</td>\n",
       "      <td>NaN</td>\n",
       "      <td>1</td>\n",
       "      <td>2.94</td>\n",
       "      <td>SW</td>\n",
       "      <td>PACIFIC CITY</td>\n",
       "      <td>41.02</td>\n",
       "      <td>-95.86</td>\n",
       "      <td>POINT(-95.86 41.02)</td>\n",
       "    </tr>\n",
       "    <tr>\n",
       "      <th>943</th>\n",
       "      <td>60812</td>\n",
       "      <td>363384</td>\n",
       "      <td>Iowa</td>\n",
       "      <td>19</td>\n",
       "      <td>hail</td>\n",
       "      <td>C</td>\n",
       "      <td>29</td>\n",
       "      <td>CASS</td>\n",
       "      <td>DMX</td>\n",
       "      <td>2012-03-29 18:54:00</td>\n",
       "      <td>...</td>\n",
       "      <td>NaN</td>\n",
       "      <td>NaN</td>\n",
       "      <td>NaN</td>\n",
       "      <td>1</td>\n",
       "      <td>2.14</td>\n",
       "      <td>SSE</td>\n",
       "      <td>LEWIS</td>\n",
       "      <td>41.27</td>\n",
       "      <td>-95.07</td>\n",
       "      <td>POINT(-95.07 41.27)</td>\n",
       "    </tr>\n",
       "    <tr>\n",
       "      <th>944</th>\n",
       "      <td>60812</td>\n",
       "      <td>363385</td>\n",
       "      <td>Iowa</td>\n",
       "      <td>19</td>\n",
       "      <td>hail</td>\n",
       "      <td>C</td>\n",
       "      <td>29</td>\n",
       "      <td>CASS</td>\n",
       "      <td>DMX</td>\n",
       "      <td>2012-03-29 19:10:00</td>\n",
       "      <td>...</td>\n",
       "      <td>NaN</td>\n",
       "      <td>NaN</td>\n",
       "      <td>NaN</td>\n",
       "      <td>1</td>\n",
       "      <td>2.81</td>\n",
       "      <td>S</td>\n",
       "      <td>GRISWOLD</td>\n",
       "      <td>41.19</td>\n",
       "      <td>-95.14</td>\n",
       "      <td>POINT(-95.14 41.19)</td>\n",
       "    </tr>\n",
       "    <tr>\n",
       "      <th>945</th>\n",
       "      <td>60812</td>\n",
       "      <td>363386</td>\n",
       "      <td>Iowa</td>\n",
       "      <td>19</td>\n",
       "      <td>hail</td>\n",
       "      <td>C</td>\n",
       "      <td>153</td>\n",
       "      <td>POLK</td>\n",
       "      <td>DMX</td>\n",
       "      <td>2012-03-29 20:53:00</td>\n",
       "      <td>...</td>\n",
       "      <td>NaN</td>\n",
       "      <td>NaN</td>\n",
       "      <td>NaN</td>\n",
       "      <td>1</td>\n",
       "      <td>0.52</td>\n",
       "      <td>W</td>\n",
       "      <td>ALTOONA</td>\n",
       "      <td>41.65</td>\n",
       "      <td>-93.48</td>\n",
       "      <td>POINT(-93.48 41.65)</td>\n",
       "    </tr>\n",
       "    <tr>\n",
       "      <th>950</th>\n",
       "      <td>60838</td>\n",
       "      <td>363537</td>\n",
       "      <td>Iowa</td>\n",
       "      <td>19</td>\n",
       "      <td>hail</td>\n",
       "      <td>C</td>\n",
       "      <td>133</td>\n",
       "      <td>MONONA</td>\n",
       "      <td>OAX</td>\n",
       "      <td>2012-03-30 16:50:00</td>\n",
       "      <td>...</td>\n",
       "      <td>NaN</td>\n",
       "      <td>NaN</td>\n",
       "      <td>NaN</td>\n",
       "      <td>1</td>\n",
       "      <td>1.47</td>\n",
       "      <td>NNE</td>\n",
       "      <td>MAPLETON MUNI ARPT</td>\n",
       "      <td>42.2</td>\n",
       "      <td>-95.79</td>\n",
       "      <td>POINT(-95.79 42.2)</td>\n",
       "    </tr>\n",
       "  </tbody>\n",
       "</table>\n",
       "<p>5 rows × 33 columns</p>\n",
       "</div>"
      ],
      "text/plain": [
       "    episode_id event_id state state_fips_code event_type cz_type cz_fips_code  \\\n",
       "854      60799   363235  Iowa              19       hail       C          129   \n",
       "943      60812   363384  Iowa              19       hail       C           29   \n",
       "944      60812   363385  Iowa              19       hail       C           29   \n",
       "945      60812   363386  Iowa              19       hail       C          153   \n",
       "950      60838   363537  Iowa              19       hail       C          133   \n",
       "\n",
       "    cz_name  wfo     event_begin_time  ... tor_length tor_width tor_other_wfo  \\\n",
       "854   MILLS  OAX  2012-03-26 07:11:00  ...        NaN       NaN           NaN   \n",
       "943    CASS  DMX  2012-03-29 18:54:00  ...        NaN       NaN           NaN   \n",
       "944    CASS  DMX  2012-03-29 19:10:00  ...        NaN       NaN           NaN   \n",
       "945    POLK  DMX  2012-03-29 20:53:00  ...        NaN       NaN           NaN   \n",
       "950  MONONA  OAX  2012-03-30 16:50:00  ...        NaN       NaN           NaN   \n",
       "\n",
       "    location_index event_range event_azimuth  reference_location  \\\n",
       "854              1        2.94            SW        PACIFIC CITY   \n",
       "943              1        2.14           SSE               LEWIS   \n",
       "944              1        2.81             S            GRISWOLD   \n",
       "945              1        0.52             W             ALTOONA   \n",
       "950              1        1.47           NNE  MAPLETON MUNI ARPT   \n",
       "\n",
       "    event_latitude event_longitude          event_point  \n",
       "854          41.02          -95.86  POINT(-95.86 41.02)  \n",
       "943          41.27          -95.07  POINT(-95.07 41.27)  \n",
       "944          41.19          -95.14  POINT(-95.14 41.19)  \n",
       "945          41.65          -93.48  POINT(-93.48 41.65)  \n",
       "950           42.2          -95.79   POINT(-95.79 42.2)  \n",
       "\n",
       "[5 rows x 33 columns]"
      ]
     },
     "execution_count": 436,
     "metadata": {},
     "output_type": "execute_result"
    }
   ],
   "source": [
    "iowa_storms.head()"
   ]
  },
  {
   "cell_type": "markdown",
   "metadata": {},
   "source": [
    "Observations: There are multiple columns in either dataset containing similar information. As we need to find a way to merge the datasets, it will be very involved to link location of sale and storm on anything other than county (e.g. as opposed to linking on latitude and longitude), so we will retain only county information for this project. Generally severe weather events will not be smaller than counties. Aggregating sales by county will also greatly reduce the size of the liquor sale dataset although it will make it very difficult to work with non-continous variables here - e.g. type of liquor sold as these are hard to aggregate. This is ok because liquor sales is our dependent variable and it will be sufficient to look only at volume and sale and disregard more specific information like type of liquor. \n",
    "\n",
    "There are also a lot of null values for some columns in the storm dataset.\n",
    "\n",
    "Decisions: With reference to the schema detail on the BigQuery console, drop columns referring to location information more granular than counties, store or item specific information. Figure out how to handle missing values. For county name in the storm dataset it appears the cz_name is the best option although according to the schema detail there may be another \"z\" type of cz_name so we should check if these are still counties."
   ]
  },
  {
   "cell_type": "code",
   "execution_count": 437,
   "metadata": {
    "scrolled": true
   },
   "outputs": [
    {
     "name": "stdout",
     "output_type": "stream",
     "text": [
      "['SHELBY', 'HARRISON', 'POTTAWATTAMIE', 'MILLS', 'MONTGOMERY', 'FREMONT', 'PAGE', 'MONONA', 'FLOYD', 'ALLAMAKEE', 'CHICKASAW', 'CLAYTON', 'HOWARD', 'MITCHELL', 'FAYETTE', 'WINNESHIEK', 'ADAMS', 'MONROE', 'MARSHALL', 'AUDUBON', 'EMMET', 'APPANOOSE', 'PALO ALTO', 'BOONE', 'BLACK HAWK', 'DECATUR', 'WORTH', 'POLK', 'POWESHIEK', 'RINGGOLD', 'BUTLER', 'BREMER', 'CARROLL', 'WRIGHT', 'GREENE', 'SAC', 'STORY', 'CALHOUN', 'TAMA', 'FRANKLIN', 'TAYLOR', 'CERRO GORDO', 'CASS', 'HAMILTON', 'UNION', 'WAPELLO', 'CRAWFORD', 'CLARKE', 'DAVIS', 'DALLAS', 'GRUNDY', 'WARREN', 'WAYNE', 'WEBSTER', 'WINNEBAGO', 'HANCOCK', 'GUTHRIE', 'HUMBOLDT', 'HARDIN', 'KOSSUTH', 'JASPER', 'MADISON', 'LUCAS', 'POCAHONTAS', 'MARION', 'MAHASKA', 'ADAIR', 'JONES', 'LINN', 'BENTON', 'BUCHANAN', 'CEDAR', 'DELAWARE', 'DUBUQUE', 'IOWA', 'JACKSON', 'JOHNSON', 'VAN BUREN', 'WASHINGTON', 'CLINTON', 'LEE', 'DES MOINES', 'LOUISA', 'HENRY', 'JEFFERSON', 'KEOKUK', 'MUSCATINE', 'SCOTT', \"O'BRIEN\", 'OSCEOLA', 'PLYMOUTH', 'SIOUX', 'WOODBURY', 'CLAY', 'DICKINSON', 'IDA', 'LYON', 'CHEROKEE', 'BUENA VISTA', 'Buena Vista']\n"
     ]
    }
   ],
   "source": [
    "only_z = iowa_storms[iowa_storms['cz_type']=='Z']\n",
    "print(list(only_z['cz_name'].unique()))"
   ]
  },
  {
   "cell_type": "markdown",
   "metadata": {},
   "source": [
    "After confirming that cz_type \"Z\" cz_names are still counties, we can use cz_name for county name."
   ]
  },
  {
   "cell_type": "code",
   "execution_count": 438,
   "metadata": {},
   "outputs": [],
   "source": [
    "iowa_storms.drop(columns = [\n",
    "    'cz_type', #type of county name\n",
    "    'episode_id', \n",
    "    'state',\n",
    "    'state_fips_code', #numerical encoding of state\n",
    "    'cz_fips_code', #numerical encoding of county name\n",
    "    'wfo', #which weather forecast office generated the report\n",
    "    'event_timezone',\n",
    "    'source', #which county level organisation generated the report\n",
    "    'location_index', #numerical encoding of location\n",
    "    'event_azimuth', #location of storm from observer\n",
    "    'reference_location', #for event_azimuth\n",
    "    'event_latitude', \n",
    "    'event_longitude',\n",
    "    'event_point', #made up of lat and long\n",
    "    'event_range', #size of the storm\n",
    "], inplace = True)"
   ]
  },
  {
   "cell_type": "code",
   "execution_count": 439,
   "metadata": {},
   "outputs": [],
   "source": [
    "liquor_sales.drop(columns=[\n",
    "    'invoice_and_item_number',\n",
    "    'store_number',\n",
    "    'store_name',\n",
    "    'address',\n",
    "    'city', \n",
    "    'zip_code', \n",
    "    'store_location', \n",
    "    'county_number',\n",
    "    'vendor_number', \n",
    "    'vendor_name',\n",
    "    'item_number',\n",
    "    'volume_sold_gallons',\n",
    "    'state_bottle_cost', \n",
    "    'state_bottle_retail',\n",
    "    'bottles_sold',\n",
    "    'bottle_volume_ml',\n",
    "    'pack',\n",
    "    'item_description',\n",
    "    'category_name',\n",
    "    'category'\n",
    "    \n",
    "], inplace=True)"
   ]
  },
  {
   "cell_type": "code",
   "execution_count": 440,
   "metadata": {},
   "outputs": [
    {
     "name": "stdout",
     "output_type": "stream",
     "text": [
      "<class 'pandas.core.frame.DataFrame'>\n",
      "Int64Index: 19019 entries, 854 to 47677\n",
      "Data columns (total 18 columns):\n",
      " #   Column             Non-Null Count  Dtype \n",
      "---  ------             --------------  ----- \n",
      " 0   event_id           19019 non-null  object\n",
      " 1   event_type         19019 non-null  object\n",
      " 2   cz_name            19019 non-null  object\n",
      " 3   event_begin_time   19019 non-null  object\n",
      " 4   event_end_time     19019 non-null  object\n",
      " 5   injuries_direct    19019 non-null  object\n",
      " 6   injuries_indirect  19019 non-null  object\n",
      " 7   deaths_direct      19019 non-null  object\n",
      " 8   deaths_indirect    19019 non-null  object\n",
      " 9   damage_property    18296 non-null  object\n",
      " 10  damage_crops       18246 non-null  object\n",
      " 11  magnitude          8109 non-null   object\n",
      " 12  magnitude_type     4573 non-null   object\n",
      " 13  flood_cause        2336 non-null   object\n",
      " 14  tor_f_scale        516 non-null    object\n",
      " 15  tor_length         516 non-null    object\n",
      " 16  tor_width          4063 non-null   object\n",
      " 17  tor_other_wfo      69 non-null     object\n",
      "dtypes: object(18)\n",
      "memory usage: 2.8+ MB\n"
     ]
    }
   ],
   "source": [
    "iowa_storms.info()"
   ]
  },
  {
   "cell_type": "code",
   "execution_count": 441,
   "metadata": {},
   "outputs": [
    {
     "name": "stdout",
     "output_type": "stream",
     "text": [
      "<class 'pandas.core.frame.DataFrame'>\n",
      "Int64Index: 20349538 entries, 0 to 20349563\n",
      "Data columns (total 4 columns):\n",
      " #   Column              Dtype              \n",
      "---  ------              -----              \n",
      " 0   date                datetime64[ns, UTC]\n",
      " 1   county              object             \n",
      " 2   sale_dollars        object             \n",
      " 3   volume_sold_liters  object             \n",
      "dtypes: datetime64[ns, UTC](1), object(3)\n",
      "memory usage: 776.3+ MB\n"
     ]
    }
   ],
   "source": [
    "liquor_sales.info()"
   ]
  },
  {
   "cell_type": "markdown",
   "metadata": {},
   "source": [
    "### Conversion of data to their original datatypes."
   ]
  },
  {
   "cell_type": "code",
   "execution_count": 442,
   "metadata": {},
   "outputs": [
    {
     "name": "stdout",
     "output_type": "stream",
     "text": [
      "854    2012-03-26 07:11:00\n",
      "Name: event_begin_time, dtype: object\n"
     ]
    }
   ],
   "source": [
    "print(iowa_storms.iloc[0:1]['event_begin_time']) #get date format"
   ]
  },
  {
   "cell_type": "code",
   "execution_count": 443,
   "metadata": {},
   "outputs": [],
   "source": [
    "iowa_storms['event_begin_time'] = pd.to_datetime(iowa_storms['event_begin_time'], utc = True, format = '%Y-%m-%d %H:%M:%S')\n",
    "iowa_storms['event_end_time'] = pd.to_datetime(iowa_storms['event_end_time'], utc = True, format = '%Y-%m-%d %H:%M:%S')"
   ]
  },
  {
   "cell_type": "code",
   "execution_count": 444,
   "metadata": {},
   "outputs": [],
   "source": [
    "storms_to_numeric = ['injuries_direct',\n",
    "                    'injuries_indirect', \n",
    "                    'deaths_direct', \n",
    "                    'deaths_indirect',\n",
    "                    'damage_property', \n",
    "                    'damage_crops', \n",
    "                    'magnitude',\n",
    "                    'tor_length',\n",
    "                    'tor_width']\n",
    "\n",
    "for name in storms_to_numeric:\n",
    "    iowa_storms[name] = pd.to_numeric(iowa_storms[name]) \n",
    "        \n",
    "\n",
    "liquor_to_numerica = ['sale_dollars','volume_sold_liters']\n",
    "\n",
    "for name in liquor_to_numerica:\n",
    "    liquor_sales[name] = pd.to_numeric(liquor_sales[name])\n",
    "#     print('null after: ', name, len(liquor_sales[pd.isnull(liquor_sales[name])]))\n",
    "\n",
    "# errors='coerce'"
   ]
  },
  {
   "cell_type": "code",
   "execution_count": 445,
   "metadata": {},
   "outputs": [
    {
     "data": {
      "text/plain": [
       "event_id                          object\n",
       "event_type                        object\n",
       "cz_name                           object\n",
       "event_begin_time     datetime64[ns, UTC]\n",
       "event_end_time       datetime64[ns, UTC]\n",
       "injuries_direct                    int64\n",
       "injuries_indirect                  int64\n",
       "deaths_direct                      int64\n",
       "deaths_indirect                    int64\n",
       "damage_property                  float64\n",
       "damage_crops                     float64\n",
       "magnitude                        float64\n",
       "magnitude_type                    object\n",
       "flood_cause                       object\n",
       "tor_f_scale                       object\n",
       "tor_length                       float64\n",
       "tor_width                        float64\n",
       "tor_other_wfo                     object\n",
       "dtype: object"
      ]
     },
     "execution_count": 445,
     "metadata": {},
     "output_type": "execute_result"
    }
   ],
   "source": [
    "iowa_storms.dtypes"
   ]
  },
  {
   "cell_type": "code",
   "execution_count": 446,
   "metadata": {},
   "outputs": [
    {
     "data": {
      "text/plain": [
       "date                  datetime64[ns, UTC]\n",
       "county                             object\n",
       "sale_dollars                      float64\n",
       "volume_sold_liters                float64\n",
       "dtype: object"
      ]
     },
     "execution_count": 446,
     "metadata": {},
     "output_type": "execute_result"
    }
   ],
   "source": [
    "liquor_sales.dtypes"
   ]
  },
  {
   "cell_type": "markdown",
   "metadata": {},
   "source": [
    "### Preparing to merge datasets"
   ]
  },
  {
   "cell_type": "markdown",
   "metadata": {},
   "source": [
    "We will need to aggregate the liquor sales dataset and ensure as much as possible that county and date columns have consistent format between the datasets.\n",
    "\n",
    "Obviously the storm dataset has a different kind of time field to the liquor sales dataset. We will approach this by dividing multi-day storms into seperate events."
   ]
  },
  {
   "cell_type": "code",
   "execution_count": 447,
   "metadata": {},
   "outputs": [
    {
     "name": "stdout",
     "output_type": "stream",
     "text": [
      "percent null in county column: \n",
      "0.7701845614382007\n",
      "percent null in date column: \n",
      "0.0\n"
     ]
    }
   ],
   "source": [
    "#check null values in iowa sales county column\n",
    "print('percent null in county column: ')\n",
    "print(len(liquor_sales[pd.isnull(liquor_sales['county'])])/len(liquor_sales) * 100)\n",
    "print('percent null in date column: ')\n",
    "print(len(liquor_sales[pd.isnull(liquor_sales['date'])])/len(liquor_sales) * 100)"
   ]
  },
  {
   "cell_type": "markdown",
   "metadata": {},
   "source": [
    "Neglibible values, we can drop these rows."
   ]
  },
  {
   "cell_type": "code",
   "execution_count": 448,
   "metadata": {},
   "outputs": [
    {
     "name": "stdout",
     "output_type": "stream",
     "text": [
      "['adair', 'adams', 'allamakee', 'appanoose', 'audubon', 'benton', 'blackhawk', 'boone', 'bremer', 'buchanan', 'buenavista', 'butler', 'calhoun', 'carroll', 'cass', 'cedar', 'cerrogordo', 'cherokee', 'chickasaw', 'clarke', 'clay', 'clayton', 'clinton', 'crawford', 'dallas', 'davis', 'decatur', 'delaware', 'desmoines', 'dickinson', 'dubuque', 'elpaso', 'emmet', 'fayette', 'floyd', 'franklin', 'fremont', 'greene', 'grundy', 'guthrie', 'hamilton', 'hancock', 'hardin', 'harrison', 'henry', 'howard', 'humboldt', 'ida', 'iowa', 'jackson', 'jasper', 'jefferson', 'johnson', 'jones', 'keokuk', 'kossuth', 'lee', 'linn', 'louisa', 'lucas', 'lyon', 'madison', 'mahaska', 'marion', 'marshall', 'mills', 'mitchell', 'monona', 'monroe', 'montgomery', 'muscatine', 'obrien', 'osceola', 'page', 'paloalto', 'plymouth', 'pocahontas', 'polk', 'pottawatta', 'pottawattamie', 'poweshiek', 'ringgold', 'sac', 'scott', 'shelby', 'sioux', 'story', 'tama', 'taylor', 'union', 'vanburen', 'wapello', 'warren', 'washington', 'wayne', 'webster', 'winnebago', 'winneshiek', 'woodbury', 'worth', 'wright']\n"
     ]
    }
   ],
   "source": [
    "liquor_sales = liquor_sales[pd.notnull(liquor_sales['county'])]\n",
    "\n",
    "punc_table = str.maketrans('', '', string.punctuation)\n",
    "\n",
    "def clean_string(string):\n",
    "    string = string.lower().replace(\" \",\"\").translate(punc_table)\n",
    "    #make lowercase, delete whitespace and removed common punctuation\n",
    "    return string\n",
    "\n",
    "liquor_sales['county'] = liquor_sales['county'].apply(clean_string)\n",
    "\n",
    "unique_counties_liquor = liquor_totals['county'].unique()\n",
    "\n",
    "print(sorted(unique_counties_liquor))\n",
    "\n",
    "#check for duplicates"
   ]
  },
  {
   "cell_type": "code",
   "execution_count": 449,
   "metadata": {},
   "outputs": [
    {
     "name": "stdout",
     "output_type": "stream",
     "text": [
      "['adair', 'adams', 'allamakee', 'appanoose', 'audubon', 'benton', 'blackhawk', 'boone', 'bremer', 'buchanan', 'buenavista', 'butler', 'calhoun', 'carroll', 'cass', 'cedar', 'cerrogordo', 'cherokee', 'chickasaw', 'clarke', 'clay', 'clayton', 'clinton', 'crawford', 'dallas', 'davis', 'decatur', 'delaware', 'desmoines', 'dickinson', 'dubuque', 'emmet', 'fayette', 'floyd', 'franklin', 'fremont', 'greene', 'grundy', 'guthrie', 'hamilton', 'hancock', 'hardin', 'harrison', 'henry', 'howard', 'humboldt', 'ida', 'iowa', 'jackson', 'jasper', 'jefferson', 'johnson', 'jones', 'keokuk', 'kossuth', 'lee', 'linn', 'louisa', 'lucas', 'lyon', 'madison', 'mahaska', 'marion', 'marshall', 'mills', 'mitchell', 'monona', 'monroe', 'montgomery', 'muscatine', 'obrien', 'osceola', 'page', 'paloalto', 'plymouth', 'pocahontas', 'polk', 'pottawattamie', 'poweshiek', 'ringgold', 'sac', 'scott', 'shelby', 'sioux', 'story', 'tama', 'taylor', 'union', 'vanburen', 'wapello', 'warren', 'washington', 'wayne', 'webster', 'winnebago', 'winneshiek', 'woodbury', 'worth', 'wright']\n"
     ]
    }
   ],
   "source": [
    "# liquor_totals.loc[liquor_totals['county'] == 'buenavist', 'county'] = 'buenavista'\n",
    "# liquor_totals.loc[liquor_totals['county'] == 'cerrogord', 'county'] = 'cerrogordo'\n",
    "\n",
    "aggregated = liquor_totals.groupby(['county','date']).agg({'sale_dollars': np.sum, 'volume_sold_liters':np.sum})\n",
    "aggregated_sales = aggregated.reset_index()\n",
    "\n",
    "iowa_storms['cz_name'] = iowa_storms['cz_name'].apply(clean_string)\n",
    "\n",
    "unique_counties_storms = iowa_storms['cz_name'].unique()\n",
    "print(sorted(unique_counties_storms))\n",
    "\n",
    "#check for duplicates"
   ]
  },
  {
   "cell_type": "markdown",
   "metadata": {},
   "source": [
    "No duplicates. Now look for matchup between datasets"
   ]
  },
  {
   "cell_type": "code",
   "execution_count": 450,
   "metadata": {},
   "outputs": [
    {
     "name": "stdout",
     "output_type": "stream",
     "text": [
      "counties in liquor data, not in storm set\n",
      "pottawatta\n",
      "elpaso\n"
     ]
    }
   ],
   "source": [
    "print('counties in liquor data, not in storm set')\n",
    "for county in unique_counties_liquor: #(liquor counties)\n",
    "    if county not in unique_counties_storms: #longer than liquor_counties\n",
    "        print(county)\n",
    "        "
   ]
  },
  {
   "cell_type": "code",
   "execution_count": 451,
   "metadata": {},
   "outputs": [
    {
     "name": "stdout",
     "output_type": "stream",
     "text": [
      "counties in storm data, not in liquor set\n"
     ]
    }
   ],
   "source": [
    "print('counties in storm data, not in liquor set')\n",
    "for county in unique_counties_storms: #(liquor counties)\n",
    "    if county not in unique_counties_liquor: #longer than liquor_counties\n",
    "        print(county)"
   ]
  },
  {
   "cell_type": "markdown",
   "metadata": {},
   "source": [
    "At least most counties are present. Now for editing the time feature of the storms dataset."
   ]
  },
  {
   "cell_type": "code",
   "execution_count": 452,
   "metadata": {},
   "outputs": [
    {
     "data": {
      "text/plain": [
       "(29944, 20)"
      ]
     },
     "execution_count": 452,
     "metadata": {},
     "output_type": "execute_result"
    }
   ],
   "source": [
    "#change event times to day only, inline with date on liquor sales\n",
    "\n",
    "iowa_storms['event_begin_time'] = iowa_storms['event_begin_time'].apply(lambda x:x.date())\n",
    "iowa_storms['event_end_time'] = iowa_storms['event_end_time'].apply(lambda x:x.date())\n",
    "\n",
    "iowa_storms['days_duration'] = iowa_storms['event_end_time'] -iowa_storms['event_begin_time'] #timedelta, event_begin - event_end\n",
    "iowa_storms['date'] = iowa_storms['event_begin_time'] \n",
    "\n",
    "iowa_storms['days_duration'] = iowa_storms['days_duration'].apply(lambda x:x.days)\n",
    "\n",
    "max_duration = max(iowa_storms['days_duration'])\n",
    "\n",
    "iowa_seperate_storms = []\n",
    "\n",
    "for i in range(max_duration):\n",
    "    temp_df = iowa_storms[iowa_storms['days_duration'] > i]\n",
    "    temp_df['date'] = temp_df['date'].apply(lambda x: x+timedelta(days=(i+1)))\n",
    "    iowa_seperate_storms.append(temp_df)\n",
    "\n",
    "iowa_storms = pd.concat(iowa_seperate_storms, axis=0)\n",
    "\n",
    "iowa_storms.shape"
   ]
  },
  {
   "cell_type": "markdown",
   "metadata": {},
   "source": [
    "Now there is a seperate row for each day of a storm we can drop event_begin_time and event_end_time as well as event_id."
   ]
  },
  {
   "cell_type": "code",
   "execution_count": 453,
   "metadata": {},
   "outputs": [],
   "source": [
    "iowa_storms.drop(columns=['event_begin_time', 'event_end_time','event_id'], axis=1, inplace=True)\n",
    "iowa_storms = iowa_storms.rename(columns={'cz_name':'county'})"
   ]
  },
  {
   "cell_type": "markdown",
   "metadata": {},
   "source": [
    "Lastly, make sure they are in the same format."
   ]
  },
  {
   "cell_type": "code",
   "execution_count": 454,
   "metadata": {},
   "outputs": [],
   "source": [
    "iowa_storms['date'] = iowa_storms['date'] = pd.to_datetime(iowa_storms['date'], utc = True, errors = 'coerce', format = '%Y-%m-%d')"
   ]
  },
  {
   "cell_type": "code",
   "execution_count": 455,
   "metadata": {},
   "outputs": [],
   "source": [
    "# aggregated_sales['date'] = aggregated_sales['date'].apply(lambda x : x.date)"
   ]
  },
  {
   "cell_type": "code",
   "execution_count": 456,
   "metadata": {},
   "outputs": [],
   "source": [
    "# storms_effect = aggregated_sales.merge(iowa_storms,how='left', on = ['date','county'])"
   ]
  },
  {
   "cell_type": "code",
   "execution_count": 457,
   "metadata": {},
   "outputs": [
    {
     "data": {
      "text/plain": [
       "(7301, 19)"
      ]
     },
     "execution_count": 457,
     "metadata": {},
     "output_type": "execute_result"
    }
   ],
   "source": [
    "storms_vs_sales = aggregated_sales.merge(iowa_storms, how = 'inner', on = ['date','county'])\n",
    "storms_vs_sales.shape"
   ]
  },
  {
   "cell_type": "markdown",
   "metadata": {},
   "source": [
    "### Cleaning and deeper exploration"
   ]
  },
  {
   "cell_type": "code",
   "execution_count": 458,
   "metadata": {},
   "outputs": [
    {
     "name": "stdout",
     "output_type": "stream",
     "text": [
      "percent null in  county : 0\n",
      "percent null in  date : 0\n",
      "percent null in  sale_dollars : 0\n",
      "percent null in  volume_sold_liters : 0\n",
      "percent null in  event_type : 0\n",
      "percent null in  injuries_direct : 0\n",
      "percent null in  injuries_indirect : 0\n",
      "percent null in  deaths_direct : 0\n",
      "percent null in  deaths_indirect : 0\n",
      "percent null in  damage_property : 7\n",
      "percent null in  damage_crops : 15\n",
      "percent null in  magnitude : 99\n",
      "percent null in  magnitude_type : 99\n",
      "percent null in  flood_cause : 77\n",
      "percent null in  tor_f_scale : 100\n",
      "percent null in  tor_length : 100\n",
      "percent null in  tor_width : 77\n",
      "percent null in  tor_other_wfo : 100\n",
      "percent null in  days_duration : 0\n"
     ]
    }
   ],
   "source": [
    "column_names = list(storms_vs_sales.columns.values)\n",
    "\n",
    "for name in column_names:\n",
    "    null = storms_vs_sales[pd.isnull(storms_vs_sales[name])]\n",
    "    print('percent null in ', name, ':', math.floor(len(null)/len(storms_vs_sales) *100))"
   ]
  },
  {
   "cell_type": "markdown",
   "metadata": {},
   "source": [
    "Observations: we already see some extremely high values for magnitude and tornado related columns. Referring to the schema detail we can see that magnitude largely refers to high winds. Obviously tornados relate to events with high winds. We can surmise that there were in fact no recorded sales during tornados, possibly because the shops shut down. "
   ]
  },
  {
   "cell_type": "code",
   "execution_count": 459,
   "metadata": {
    "scrolled": true
   },
   "outputs": [
    {
     "data": {
      "text/plain": [
       "drought                    4338\n",
       "flood                      1602\n",
       "heavy rain                  522\n",
       "winter storm                245\n",
       "extreme cold/wind chill     143\n",
       "winter weather              114\n",
       "excessive heat              106\n",
       "flash flood                  49\n",
       "heat                         46\n",
       "heavy snow                   46\n",
       "blizzard                     39\n",
       "high wind                    17\n",
       "cold/wind chill              16\n",
       "dense fog                     8\n",
       "ice storm                     7\n",
       "frost/freeze                  3\n",
       "Name: event_type, dtype: int64"
      ]
     },
     "execution_count": 459,
     "metadata": {},
     "output_type": "execute_result"
    }
   ],
   "source": [
    "storms_vs_sales['event_type'].value_counts()"
   ]
  },
  {
   "cell_type": "markdown",
   "metadata": {},
   "source": [
    "We can confirm that tornados have disappeared from the event_type list. We can delete tornado and magnitude related columns."
   ]
  },
  {
   "cell_type": "code",
   "execution_count": 460,
   "metadata": {},
   "outputs": [],
   "source": [
    "storms_vs_sales.drop(columns = [\n",
    "    'tor_f_scale', \n",
    "    'tor_length',\n",
    "    'tor_length',\n",
    "    'tor_width',\n",
    "    'tor_other_wfo',\n",
    "    'magnitude',\n",
    "    'magnitude_type'\n",
    "], inplace = True)"
   ]
  },
  {
   "cell_type": "markdown",
   "metadata": {},
   "source": [
    "We have no way of imputing missing values for damage to property and damage to crops so we will drop these rows."
   ]
  },
  {
   "cell_type": "code",
   "execution_count": 461,
   "metadata": {},
   "outputs": [],
   "source": [
    "storms_vs_sales = storms_vs_sales[pd.notnull(storms_vs_sales['damage_property'])]\n",
    "storms_vs_sales = storms_vs_sales[pd.notnull(storms_vs_sales['damage_crops'])]"
   ]
  },
  {
   "cell_type": "markdown",
   "metadata": {},
   "source": [
    "Looking at flood_cause, we can look to possibly create new event_types that embody this information, useful as flood is the second highest event type."
   ]
  },
  {
   "cell_type": "code",
   "execution_count": 462,
   "metadata": {},
   "outputs": [
    {
     "data": {
      "text/plain": [
       "Heavy Rain                1208\n",
       "Heavy Rain / Snow Melt     418\n",
       "Planned Dam Release         15\n",
       "Ice Jam                      9\n",
       "Dam / Levee Break            1\n",
       "Name: flood_cause, dtype: int64"
      ]
     },
     "execution_count": 462,
     "metadata": {},
     "output_type": "execute_result"
    }
   ],
   "source": [
    "storms_vs_sales['flood_cause'].value_counts()"
   ]
  },
  {
   "cell_type": "code",
   "execution_count": 463,
   "metadata": {},
   "outputs": [
    {
     "name": "stdout",
     "output_type": "stream",
     "text": [
      "4404\n",
      "[nan 'Heavy Rain' 'Heavy Rain / Snow Melt' 'Ice Jam' 'Dam / Levee Break'\n",
      " 'Planned Dam Release']\n"
     ]
    }
   ],
   "source": [
    "print(len(storms_vs_sales[pd.isnull(storms_vs_sales['flood_cause'])]))\n",
    "print(storms_vs_sales['flood_cause'].unique())"
   ]
  },
  {
   "cell_type": "code",
   "execution_count": 464,
   "metadata": {},
   "outputs": [
    {
     "name": "stdout",
     "output_type": "stream",
     "text": [
      "0       False\n",
      "1       False\n",
      "2       False\n",
      "3       False\n",
      "4       False\n",
      "        ...  \n",
      "7296    False\n",
      "7297    False\n",
      "7298    False\n",
      "7299    False\n",
      "7300    False\n",
      "Name: flood_cause, Length: 6055, dtype: bool\n",
      "0       False\n",
      "1       False\n",
      "2       False\n",
      "3       False\n",
      "4       False\n",
      "        ...  \n",
      "7296    False\n",
      "7297    False\n",
      "7298    False\n",
      "7299    False\n",
      "7300    False\n",
      "Name: flood_cause, Length: 6055, dtype: bool\n",
      "0       False\n",
      "1       False\n",
      "2       False\n",
      "3       False\n",
      "4       False\n",
      "        ...  \n",
      "7296    False\n",
      "7297    False\n",
      "7298    False\n",
      "7299    False\n",
      "7300    False\n",
      "Name: flood_cause, Length: 6055, dtype: bool\n",
      "0       False\n",
      "1       False\n",
      "2       False\n",
      "3       False\n",
      "4       False\n",
      "        ...  \n",
      "7296    False\n",
      "7297    False\n",
      "7298    False\n",
      "7299    False\n",
      "7300    False\n",
      "Name: flood_cause, Length: 6055, dtype: bool\n",
      "0       False\n",
      "1       False\n",
      "2       False\n",
      "3       False\n",
      "4       False\n",
      "        ...  \n",
      "7296    False\n",
      "7297    False\n",
      "7298    False\n",
      "7299    False\n",
      "7300    False\n",
      "Name: flood_cause, Length: 6055, dtype: bool\n"
     ]
    }
   ],
   "source": [
    "flood_causes = ['Heavy Rain',\n",
    "                'Heavy Rain / Snow Melt',\n",
    "                'Planned Dam Release',\n",
    "                'Ice Jam','Dam / Levee Break']\n",
    "\n",
    "flood_encode = {'Heavy Rain': 'rain flood',\n",
    "                'Heavy Rain / Snow Melt':'snow flood',\n",
    "               'Planned Dam Release':'other flood',\n",
    "                'Ice Jam' : 'other flood',\n",
    "                'Dam / Levee Break' : 'other flood'\n",
    "               }\n",
    "\n",
    "for cause in flood_causes:\n",
    "    mask = storms_vs_sales['flood_cause'] == cause\n",
    "    storms_vs_sales.loc[mask, 'event_type'] = flood_encode[cause]\n",
    "\n",
    "storms_vs_sales.drop(columns = [\n",
    "    'flood_cause'\n",
    "], inplace = True)"
   ]
  },
  {
   "cell_type": "code",
   "execution_count": null,
   "metadata": {},
   "outputs": [],
   "source": []
  },
  {
   "cell_type": "code",
   "execution_count": 465,
   "metadata": {
    "scrolled": false
   },
   "outputs": [
    {
     "data": {
      "text/plain": [
       "drought                    3116\n",
       "rain flood                 1208\n",
       "heavy rain                  522\n",
       "snow flood                  418\n",
       "winter storm                235\n",
       "extreme cold/wind chill     143\n",
       "winter weather              109\n",
       "excessive heat              106\n",
       "heat                         46\n",
       "heavy snow                   44\n",
       "blizzard                     39\n",
       "other flood                  25\n",
       "cold/wind chill              14\n",
       "high wind                    12\n",
       "dense fog                     8\n",
       "ice storm                     7\n",
       "frost/freeze                  3\n",
       "Name: event_type, dtype: int64"
      ]
     },
     "execution_count": 465,
     "metadata": {},
     "output_type": "execute_result"
    }
   ],
   "source": [
    "storms_vs_sales['event_type'].value_counts()"
   ]
  },
  {
   "cell_type": "code",
   "execution_count": 466,
   "metadata": {},
   "outputs": [],
   "source": [
    "storms_vs_sales.drop(columns = [\n",
    "    'county',\n",
    "    'date'\n",
    "], inplace = True)"
   ]
  },
  {
   "cell_type": "markdown",
   "metadata": {},
   "source": [
    "# Exploratory data analysis"
   ]
  },
  {
   "cell_type": "code",
   "execution_count": 467,
   "metadata": {
    "scrolled": true
   },
   "outputs": [
    {
     "name": "stdout",
     "output_type": "stream",
     "text": [
      "<class 'pandas.core.frame.DataFrame'>\n",
      "Int64Index: 6055 entries, 0 to 7300\n",
      "Data columns (total 10 columns):\n",
      " #   Column              Non-Null Count  Dtype  \n",
      "---  ------              --------------  -----  \n",
      " 0   sale_dollars        6055 non-null   float64\n",
      " 1   volume_sold_liters  6055 non-null   float64\n",
      " 2   event_type          6055 non-null   object \n",
      " 3   injuries_direct     6055 non-null   int64  \n",
      " 4   injuries_indirect   6055 non-null   int64  \n",
      " 5   deaths_direct       6055 non-null   int64  \n",
      " 6   deaths_indirect     6055 non-null   int64  \n",
      " 7   damage_property     6055 non-null   float64\n",
      " 8   damage_crops        6055 non-null   float64\n",
      " 9   days_duration       6055 non-null   int64  \n",
      "dtypes: float64(4), int64(5), object(1)\n",
      "memory usage: 520.4+ KB\n"
     ]
    }
   ],
   "source": [
    "storms_vs_sales.info()"
   ]
  },
  {
   "cell_type": "markdown",
   "metadata": {},
   "source": [
    "Sanity checking for outliers."
   ]
  },
  {
   "cell_type": "code",
   "execution_count": 468,
   "metadata": {},
   "outputs": [
    {
     "name": "stdout",
     "output_type": "stream",
     "text": [
      "percent zero in sale_dollars :  0.41288191577208916\n",
      "percent zero in volume_sold_liters :  0.0\n",
      "percent zero in event_type :  0.0\n",
      "percent zero in injuries_direct :  99.93393889347647\n",
      "percent zero in injuries_indirect :  99.98348472336912\n",
      "percent zero in deaths_direct :  99.9009083402147\n",
      "percent zero in deaths_indirect :  100.0\n",
      "percent zero in damage_property :  91.70933113129645\n",
      "percent zero in damage_crops :  78.53014037985136\n",
      "percent zero in days_duration :  0.0\n"
     ]
    }
   ],
   "source": [
    "col_names = storms_vs_sales.columns\n",
    "\n",
    "for name in col_names:\n",
    "    print('percent zero in', name, ': ', len(storms_vs_sales[storms_vs_sales[name]==0])/len(storms_vs_sales) *100)\n"
   ]
  },
  {
   "cell_type": "markdown",
   "metadata": {},
   "source": [
    "Appears the injuries and deaths is mostly 0. We can remove these columns"
   ]
  },
  {
   "cell_type": "code",
   "execution_count": 469,
   "metadata": {},
   "outputs": [],
   "source": [
    "storms_vs_sales.drop(columns = [\n",
    "    'injuries_indirect',\n",
    "    'injuries_direct',\n",
    "    'deaths_indirect',\n",
    "    'deaths_direct'\n",
    "], inplace = True)"
   ]
  },
  {
   "cell_type": "code",
   "execution_count": 470,
   "metadata": {},
   "outputs": [
    {
     "data": {
      "text/plain": [
       "<AxesSubplot:>"
      ]
     },
     "execution_count": 470,
     "metadata": {},
     "output_type": "execute_result"
    },
    {
     "data": {
      "image/png": "[encoded data removed]",
      "text/plain": [
       "<Figure size 432x288 with 1 Axes>"
      ]
     },
     "metadata": {
      "needs_background": "light"
     },
     "output_type": "display_data"
    }
   ],
   "source": [
    "storms_vs_sales['event_type'].value_counts().sort_values().plot(kind = 'barh')\n"
   ]
  },
  {
   "cell_type": "code",
   "execution_count": 471,
   "metadata": {},
   "outputs": [
    {
     "data": {
      "text/plain": [
       "<seaborn.axisgrid.FacetGrid at 0x7fe8f35d9c40>"
      ]
     },
     "execution_count": 471,
     "metadata": {},
     "output_type": "execute_result"
    },
    {
     "data": {
      "image/png": "[encoded data removed]",
      "text/plain": [
       "<Figure size 360x360 with 1 Axes>"
      ]
     },
     "metadata": {
      "needs_background": "light"
     },
     "output_type": "display_data"
    }
   ],
   "source": [
    "sns.displot(storms_vs_sales['sale_dollars'])"
   ]
  },
  {
   "cell_type": "markdown",
   "metadata": {},
   "source": [
    "We can attempt to normalize this distribution via a log transformation."
   ]
  },
  {
   "cell_type": "code",
   "execution_count": 472,
   "metadata": {},
   "outputs": [
    {
     "data": {
      "text/plain": [
       "<seaborn.axisgrid.FacetGrid at 0x7febb1a37b20>"
      ]
     },
     "execution_count": 472,
     "metadata": {},
     "output_type": "execute_result"
    },
    {
     "data": {
      "image/png": "[encoded data removed]",
      "text/plain": [
       "<Figure size 360x360 with 1 Axes>"
      ]
     },
     "metadata": {
      "needs_background": "light"
     },
     "output_type": "display_data"
    }
   ],
   "source": [
    "mask = storms_vs_sales['sale_dollars'] == 0\n",
    "storms_vs_sales.loc[mask, 'sale_dollars'] = 1\n",
    "\n",
    "sns.displot(np.log(storms_vs_sales['sale_dollars']))"
   ]
  },
  {
   "cell_type": "code",
   "execution_count": 473,
   "metadata": {},
   "outputs": [],
   "source": [
    "# storms_vs_sales['sale_dollars'] = storms_vs_sales['sale_dollars'].apply(lambda x : np.log(x))\n",
    "# storms_vs_sales['sale_dollars'] = storms_vs_sales['sale_dollars'].apply(lambda x : x * x)"
   ]
  },
  {
   "cell_type": "markdown",
   "metadata": {},
   "source": [
    "This seems to be effective in approximating a normal distribution. "
   ]
  },
  {
   "cell_type": "code",
   "execution_count": 474,
   "metadata": {},
   "outputs": [
    {
     "data": {
      "text/plain": [
       "<seaborn.axisgrid.FacetGrid at 0x7fe8f3147520>"
      ]
     },
     "execution_count": 474,
     "metadata": {},
     "output_type": "execute_result"
    },
    {
     "data": {
      "image/png": "[encoded data removed]",
      "text/plain": [
       "<Figure size 360x360 with 1 Axes>"
      ]
     },
     "metadata": {
      "needs_background": "light"
     },
     "output_type": "display_data"
    }
   ],
   "source": [
    "sns.displot(storms_vs_sales['volume_sold_liters'])"
   ]
  },
  {
   "cell_type": "markdown",
   "metadata": {},
   "source": [
    "Similarly we could apply a log transformation."
   ]
  },
  {
   "cell_type": "code",
   "execution_count": 475,
   "metadata": {},
   "outputs": [
    {
     "data": {
      "text/plain": [
       "<seaborn.axisgrid.FacetGrid at 0x7fe8f2fb4d00>"
      ]
     },
     "execution_count": 475,
     "metadata": {},
     "output_type": "execute_result"
    },
    {
     "data": {
      "image/png": "[encoded data removed]",
      "text/plain": [
       "<Figure size 360x360 with 1 Axes>"
      ]
     },
     "metadata": {
      "needs_background": "light"
     },
     "output_type": "display_data"
    }
   ],
   "source": [
    "mask = storms_vs_sales['volume_sold_liters'] == 0\n",
    "storms_vs_sales.loc[mask, 'volume_sold_liters'] = 1\n",
    "\n",
    "sns.displot(np.log(storms_vs_sales['volume_sold_liters']))"
   ]
  },
  {
   "cell_type": "markdown",
   "metadata": {},
   "source": [
    "Also looking good."
   ]
  },
  {
   "cell_type": "code",
   "execution_count": 476,
   "metadata": {},
   "outputs": [],
   "source": [
    "# storms_vs_sales['volume_sold_liters'] = storms_vs_sales['volume_sold_liters'].apply(lambda x : np.log(x))\n",
    "# storms_vs_sales['volume_sold_liters'] = storms_vs_sales['volume_sold_liters'].apply(lambda x : x * x)"
   ]
  },
  {
   "cell_type": "code",
   "execution_count": 477,
   "metadata": {},
   "outputs": [
    {
     "data": {
      "text/plain": [
       "<seaborn.axisgrid.FacetGrid at 0x7fe8f3eb35e0>"
      ]
     },
     "execution_count": 477,
     "metadata": {},
     "output_type": "execute_result"
    },
    {
     "data": {
      "image/png": "[encoded data removed]",
      "text/plain": [
       "<Figure size 360x360 with 1 Axes>"
      ]
     },
     "metadata": {
      "needs_background": "light"
     },
     "output_type": "display_data"
    }
   ],
   "source": [
    "sns.displot(storms_vs_sales['damage_crops'])\n",
    "\n",
    "# no_zero = storms_vs_sales.copy()\n",
    "\n",
    "# no_zero[no_zero['damage_crops']==0] = 1\n",
    "# sns.displot(np.log(no_zero['damage_crops']))"
   ]
  },
  {
   "cell_type": "code",
   "execution_count": 478,
   "metadata": {},
   "outputs": [
    {
     "data": {
      "text/plain": [
       "<seaborn.axisgrid.FacetGrid at 0x7fe8f423a670>"
      ]
     },
     "execution_count": 478,
     "metadata": {},
     "output_type": "execute_result"
    },
    {
     "data": {
      "image/png": "[encoded data removed]",
      "text/plain": [
       "<Figure size 360x360 with 1 Axes>"
      ]
     },
     "metadata": {
      "needs_background": "light"
     },
     "output_type": "display_data"
    }
   ],
   "source": [
    "sns.displot(storms_vs_sales['damage_property'])"
   ]
  },
  {
   "cell_type": "code",
   "execution_count": 479,
   "metadata": {},
   "outputs": [
    {
     "data": {
      "text/plain": [
       "<seaborn.axisgrid.FacetGrid at 0x7fe8f423aac0>"
      ]
     },
     "execution_count": 479,
     "metadata": {},
     "output_type": "execute_result"
    },
    {
     "data": {
      "image/png": "[encoded data removed]",
      "text/plain": [
       "<Figure size 360x360 with 1 Axes>"
      ]
     },
     "metadata": {
      "needs_background": "light"
     },
     "output_type": "display_data"
    }
   ],
   "source": [
    "sns.displot(storms_vs_sales['days_duration'])"
   ]
  },
  {
   "cell_type": "code",
   "execution_count": 480,
   "metadata": {},
   "outputs": [
    {
     "data": {
      "text/plain": [
       "<AxesSubplot:xlabel='volume_sold_liters', ylabel='damage_crops'>"
      ]
     },
     "execution_count": 480,
     "metadata": {},
     "output_type": "execute_result"
    },
    {
     "data": {
      "image/png": "[encoded data removed]",
      "text/plain": [
       "<Figure size 432x288 with 1 Axes>"
      ]
     },
     "metadata": {
      "needs_background": "light"
     },
     "output_type": "display_data"
    }
   ],
   "source": [
    "sns.scatterplot(data=storms_vs_sales, x=\"volume_sold_liters\", y=\"damage_crops\")"
   ]
  },
  {
   "cell_type": "code",
   "execution_count": 481,
   "metadata": {},
   "outputs": [
    {
     "data": {
      "text/plain": [
       "<AxesSubplot:xlabel='volume_sold_liters', ylabel='damage_property'>"
      ]
     },
     "execution_count": 481,
     "metadata": {},
     "output_type": "execute_result"
    },
    {
     "data": {
      "image/png": "[encoded data removed]",
      "text/plain": [
       "<Figure size 432x288 with 1 Axes>"
      ]
     },
     "metadata": {
      "needs_background": "light"
     },
     "output_type": "display_data"
    }
   ],
   "source": [
    "sns.scatterplot(data=storms_vs_sales, x=\"volume_sold_liters\", y=\"damage_property\")"
   ]
  },
  {
   "cell_type": "code",
   "execution_count": 482,
   "metadata": {},
   "outputs": [
    {
     "data": {
      "text/plain": [
       "<AxesSubplot:xlabel='volume_sold_liters', ylabel='days_duration'>"
      ]
     },
     "execution_count": 482,
     "metadata": {},
     "output_type": "execute_result"
    },
    {
     "data": {
      "image/png": "[encoded data removed]",
      "text/plain": [
       "<Figure size 432x288 with 1 Axes>"
      ]
     },
     "metadata": {
      "needs_background": "light"
     },
     "output_type": "display_data"
    }
   ],
   "source": [
    "sns.scatterplot(data=storms_vs_sales, x=\"volume_sold_liters\", y=\"days_duration\")"
   ]
  },
  {
   "cell_type": "code",
   "execution_count": 483,
   "metadata": {},
   "outputs": [
    {
     "data": {
      "text/plain": [
       "<AxesSubplot:xlabel='sale_dollars', ylabel='damage_crops'>"
      ]
     },
     "execution_count": 483,
     "metadata": {},
     "output_type": "execute_result"
    },
    {
     "data": {
      "image/png": "[encoded data removed]",
      "text/plain": [
       "<Figure size 432x288 with 1 Axes>"
      ]
     },
     "metadata": {
      "needs_background": "light"
     },
     "output_type": "display_data"
    }
   ],
   "source": [
    "sns.scatterplot(data=storms_vs_sales, x=\"sale_dollars\", y=\"damage_crops\")"
   ]
  },
  {
   "cell_type": "code",
   "execution_count": 484,
   "metadata": {},
   "outputs": [
    {
     "data": {
      "text/plain": [
       "<AxesSubplot:xlabel='sale_dollars', ylabel='damage_property'>"
      ]
     },
     "execution_count": 484,
     "metadata": {},
     "output_type": "execute_result"
    },
    {
     "data": {
      "image/png": "[encoded data removed]",
      "text/plain": [
       "<Figure size 432x288 with 1 Axes>"
      ]
     },
     "metadata": {
      "needs_background": "light"
     },
     "output_type": "display_data"
    }
   ],
   "source": [
    "sns.scatterplot(data=storms_vs_sales, x=\"sale_dollars\", y=\"damage_property\")"
   ]
  },
  {
   "cell_type": "code",
   "execution_count": 485,
   "metadata": {},
   "outputs": [
    {
     "data": {
      "text/plain": [
       "<AxesSubplot:xlabel='sale_dollars', ylabel='days_duration'>"
      ]
     },
     "execution_count": 485,
     "metadata": {},
     "output_type": "execute_result"
    },
    {
     "data": {
      "image/png": "[encoded data removed]",
      "text/plain": [
       "<Figure size 432x288 with 1 Axes>"
      ]
     },
     "metadata": {
      "needs_background": "light"
     },
     "output_type": "display_data"
    }
   ],
   "source": [
    "sns.scatterplot(data=storms_vs_sales, x=\"sale_dollars\", y=\"days_duration\")"
   ]
  },
  {
   "cell_type": "markdown",
   "metadata": {},
   "source": [
    "None of the continuous variables have a clear linear relationship to sale_dollars or volume_sold. Because of this we can try using a Random Forest approach to modelling this data. With no formal distributional assumptions we can also avoid having to normalise our dependent variables via log transformations. It can also handle our combination of continous and categorial data although we may want to manually bin continous data later."
   ]
  },
  {
   "cell_type": "markdown",
   "metadata": {},
   "source": [
    "In order to do this we will need to encode the event_types as binary variables. ??? I dont have to do this anymore???"
   ]
  },
  {
   "cell_type": "code",
   "execution_count": 486,
   "metadata": {},
   "outputs": [],
   "source": [
    "unique_events = storms_vs_sales['event_type'].unique()\n",
    "\n",
    "for event in unique_events:\n",
    "    storms_vs_sales[event] = storms_vs_sales['event_type'] == event\n",
    "    storms_vs_sales[event] = storms_vs_sales[event].apply(lambda x: x*1)\n",
    "    \n"
   ]
  },
  {
   "cell_type": "code",
   "execution_count": 487,
   "metadata": {},
   "outputs": [
    {
     "name": "stdout",
     "output_type": "stream",
     "text": [
      "<class 'pandas.core.frame.DataFrame'>\n",
      "Int64Index: 6055 entries, 0 to 7300\n",
      "Data columns (total 23 columns):\n",
      " #   Column                   Non-Null Count  Dtype  \n",
      "---  ------                   --------------  -----  \n",
      " 0   sale_dollars             6055 non-null   float64\n",
      " 1   volume_sold_liters       6055 non-null   float64\n",
      " 2   event_type               6055 non-null   object \n",
      " 3   damage_property          6055 non-null   float64\n",
      " 4   damage_crops             6055 non-null   float64\n",
      " 5   days_duration            6055 non-null   int64  \n",
      " 6   drought                  6055 non-null   int64  \n",
      " 7   extreme cold/wind chill  6055 non-null   int64  \n",
      " 8   heavy rain               6055 non-null   int64  \n",
      " 9   excessive heat           6055 non-null   int64  \n",
      " 10  winter storm             6055 non-null   int64  \n",
      " 11  rain flood               6055 non-null   int64  \n",
      " 12  heavy snow               6055 non-null   int64  \n",
      " 13  heat                     6055 non-null   int64  \n",
      " 14  snow flood               6055 non-null   int64  \n",
      " 15  frost/freeze             6055 non-null   int64  \n",
      " 16  dense fog                6055 non-null   int64  \n",
      " 17  blizzard                 6055 non-null   int64  \n",
      " 18  winter weather           6055 non-null   int64  \n",
      " 19  ice storm                6055 non-null   int64  \n",
      " 20  other flood              6055 non-null   int64  \n",
      " 21  high wind                6055 non-null   int64  \n",
      " 22  cold/wind chill          6055 non-null   int64  \n",
      "dtypes: float64(4), int64(18), object(1)\n",
      "memory usage: 1.1+ MB\n"
     ]
    }
   ],
   "source": [
    "storms_vs_sales.info()"
   ]
  },
  {
   "cell_type": "code",
   "execution_count": 488,
   "metadata": {},
   "outputs": [],
   "source": [
    "storms_vs_sales.drop(columns = [\n",
    "    'event_type'\n",
    "], inplace = True)"
   ]
  },
  {
   "cell_type": "code",
   "execution_count": 489,
   "metadata": {},
   "outputs": [
    {
     "data": {
      "text/plain": [
       "(6055, 22)"
      ]
     },
     "execution_count": 489,
     "metadata": {},
     "output_type": "execute_result"
    }
   ],
   "source": [
    "storms_vs_sales.shape"
   ]
  },
  {
   "cell_type": "markdown",
   "metadata": {},
   "source": [
    "### Modelling"
   ]
  },
  {
   "cell_type": "code",
   "execution_count": 490,
   "metadata": {},
   "outputs": [
    {
     "name": "stdout",
     "output_type": "stream",
     "text": [
      "Index(['sale_dollars', 'volume_sold_liters', 'damage_property', 'damage_crops',\n",
      "       'days_duration', 'drought', 'extreme cold/wind chill', 'heavy rain',\n",
      "       'excessive heat', 'winter storm', 'rain flood', 'heavy snow', 'heat',\n",
      "       'snow flood', 'frost/freeze', 'dense fog', 'blizzard', 'winter weather',\n",
      "       'ice storm', 'other flood', 'high wind', 'cold/wind chill'],\n",
      "      dtype='object')\n"
     ]
    }
   ],
   "source": [
    "print(storms_vs_sales.columns)"
   ]
  },
  {
   "cell_type": "code",
   "execution_count": 492,
   "metadata": {},
   "outputs": [],
   "source": [
    "X = storms_vs_sales[['damage_property', \n",
    "                     'damage_crops',\n",
    "                     'days_duration', \n",
    "                     'drought', \n",
    "                     'extreme cold/wind chill', \n",
    "                     'heavy rain',\n",
    "                     'excessive heat', \n",
    "                     'winter storm', \n",
    "                     'heavy snow', \n",
    "                     'heat',\n",
    "                     'frost/freeze', \n",
    "                     'dense fog', \n",
    "                     'blizzard',\n",
    "                     'winter weather', \n",
    "                     'ice storm', \n",
    "                     'high wind', \n",
    "                     'cold/wind chill']]\n",
    "\n",
    "y_dollars = storms_vs_sales['sale_dollars']\n",
    "\n",
    "y_vol = storms_vs_sales['volume_sold_liters']\n",
    "\n",
    "\n",
    "X_train_dollars, X_test_dollars, y_train_dollars, y_test_dollars = train_test_split(X, y_dollars, test_size=0.2, random_state=0)\n",
    "\n",
    "X_train_vol, X_test_vol, y_train_vol, y_test_vol = train_test_split(X, y_vol, test_size=0.2, random_state=0)"
   ]
  },
  {
   "cell_type": "code",
   "execution_count": 493,
   "metadata": {},
   "outputs": [],
   "source": [
    "sc = StandardScaler()\n",
    "X_train_dollars = sc.fit_transform(X_train_dollars)\n",
    "X_test_dollars = sc.transform(X_test_dollars)\n",
    "\n",
    "X_train_vol = sc.fit_transform(X_train_vol)\n",
    "X_test_vol = sc.transform(X_test_vol)"
   ]
  },
  {
   "cell_type": "code",
   "execution_count": null,
   "metadata": {},
   "outputs": [],
   "source": [
    "# storms_vs_sales = storms_vs_sales.drop(storms_vs_sales[storms_vs_sales == np.inf].index)"
   ]
  },
  {
   "cell_type": "code",
   "execution_count": 497,
   "metadata": {},
   "outputs": [],
   "source": [
    "regressor_dollars = RandomForestRegressor(n_estimators=200, random_state=0)\n",
    "regressor_vol = RandomForestRegressor(n_estimators=200, random_state=0)\n",
    "\n",
    "\n",
    "regressor_dollars.fit(X_train_dollars, y_train_dollars)\n",
    "y_pred_dollars = regressor_dollars.predict(X_test_dollars)\n",
    "\n",
    "regressor_vol.fit(X_train_vol, y_train_vol)\n",
    "y_pred_vol = regressor_vol.predict(X_test_vol)"
   ]
  },
  {
   "cell_type": "code",
   "execution_count": 502,
   "metadata": {},
   "outputs": [
    {
     "name": "stdout",
     "output_type": "stream",
     "text": [
      "Mean Absolute Error: 48222.92937359735\n",
      "Mean Squared Error: 7983502162.211311\n",
      "Root Mean Squared Error: 89350.44578630434\n",
      "Mean Absolute Percentage Error: 141.81179330541897\n"
     ]
    }
   ],
   "source": [
    "print('Mean Absolute Error:', metrics.mean_absolute_error(y_test_dollars, y_pred_dollars))\n",
    "print('Mean Squared Error:', metrics.mean_squared_error(y_test_dollars, y_pred_dollars))\n",
    "print('Root Mean Squared Error:', np.sqrt(metrics.mean_squared_error(y_test_dollars, y_pred_dollars)))\n",
    "print('Mean Absolute Percentage Error:', metrics.mean_absolute_percentage_error(y_test_dollars, y_pred_dollars))\n",
    "\n"
   ]
  },
  {
   "cell_type": "code",
   "execution_count": 501,
   "metadata": {},
   "outputs": [
    {
     "name": "stdout",
     "output_type": "stream",
     "text": [
      "Mean Absolute Error: 3125.4161480076596\n",
      "Mean Squared Error: 31189946.2286223\n",
      "Root Mean Squared Error: 5584.795988093236\n",
      "Mean Absolute Percentage Error: 40.94060254433396\n"
     ]
    }
   ],
   "source": [
    "print('Mean Absolute Error:', metrics.mean_absolute_error(y_test_vol, y_pred_vol))\n",
    "print('Mean Squared Error:', metrics.mean_squared_error(y_test_vol, y_pred_vol))\n",
    "print('Root Mean Squared Error:', np.sqrt(metrics.mean_squared_error(y_test_vol, y_pred_vol)))\n",
    "print('Mean Absolute Percentage Error:', metrics.mean_absolute_percentage_error(y_test_vol, y_pred_vol))\n",
    "\n"
   ]
  }
 ],
 "metadata": {
  "kernelspec": {
   "display_name": "Python 3",
   "language": "python",
   "name": "python3"
  },
  "language_info": {
   "codemirror_mode": {
    "name": "ipython",
    "version": 3
   },
   "file_extension": ".py",
   "mimetype": "text/x-python",
   "name": "python",
   "nbconvert_exporter": "python",
   "pygments_lexer": "ipython3",
   "version": "3.8.3"
  }
 },
 "nbformat": 4,
 "nbformat_minor": 4
}
